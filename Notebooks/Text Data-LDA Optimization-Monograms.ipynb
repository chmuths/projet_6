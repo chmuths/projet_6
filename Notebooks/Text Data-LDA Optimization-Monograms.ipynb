{
 "cells": [
  {
   "cell_type": "code",
   "execution_count": 1,
   "metadata": {
    "collapsed": false
   },
   "outputs": [],
   "source": [
    "# Required libraries\n",
    "import os\n",
    "import math\n",
    "import numpy as np\n",
    "import pandas as pd\n",
    "from nltk.corpus import stopwords\n",
    "import matplotlib.pyplot as plt\n",
    "\n",
    "import nltk\n",
    "from bs4 import BeautifulSoup"
   ]
  },
  {
   "cell_type": "code",
   "execution_count": 2,
   "metadata": {
    "collapsed": true
   },
   "outputs": [],
   "source": [
    "# Constants\n",
    "my_data = \"../data\""
   ]
  },
  {
   "cell_type": "markdown",
   "metadata": {},
   "source": [
    "## Import data"
   ]
  },
  {
   "cell_type": "markdown",
   "metadata": {},
   "source": [
    "Set of legacy questions to train/test the model. Query loads questions where last modification date was last year.\n",
    "\n",
    "Stackexchange query is https://data.stackexchange.com/stackoverflow/query/edit/847084\n",
    "\n",
    "select Id, Score, ViewCount, CreationDate, LastActivityDate, title, tags, body\n",
    "from Posts \n",
    "where (score > 100) and (LastActivityDate > '2017-04-01') \n",
    "and (LastActivityDate < '2018-04-01') and (PostTypeId = 1)"
   ]
  },
  {
   "cell_type": "code",
   "execution_count": 3,
   "metadata": {
    "collapsed": false
   },
   "outputs": [
    {
     "name": "stdout",
     "output_type": "stream",
     "text": [
      "(15089, 8)\n"
     ]
    }
   ],
   "source": [
    "# Load data into Pandas dataframe\n",
    "datafile = \"QueryResultsOld.csv\"\n",
    "full_path = os.path.join(my_data, datafile)\n",
    "df_questions = pd.read_csv(full_path)\n",
    "print(df_questions.shape)"
   ]
  },
  {
   "cell_type": "markdown",
   "metadata": {},
   "source": [
    "Other set of questions to use with the trained model\n",
    "\n",
    "https://data.stackexchange.com/stackoverflow/query/edit/846505\n",
    "\n",
    "select Id, Score, ViewCount, CreationDate, LastActivityDate, title, tags, body\n",
    "from Posts \n",
    "where (score > 100) and (LastActivityDate > '2018-04-01') and (PostTypeId = 1)"
   ]
  },
  {
   "cell_type": "code",
   "execution_count": 4,
   "metadata": {
    "collapsed": false
   },
   "outputs": [
    {
     "name": "stdout",
     "output_type": "stream",
     "text": [
      "(3865, 8)\n"
     ]
    }
   ],
   "source": [
    "# Load data into Pandas dataframe\n",
    "datafile = \"QueryResultsNew.csv\"\n",
    "full_path = os.path.join(my_data, datafile)\n",
    "df_new_questions = pd.read_csv(full_path)\n",
    "print(df_new_questions.shape)"
   ]
  },
  {
   "cell_type": "markdown",
   "metadata": {},
   "source": [
    "### Tokenize words"
   ]
  },
  {
   "cell_type": "markdown",
   "metadata": {},
   "source": [
    "This piece of code cleans up the HTML content, removes stop words and converts the remaining ones into a list of stems.\n",
    "The result is a new column in the table with that list for each question."
   ]
  },
  {
   "cell_type": "code",
   "execution_count": 5,
   "metadata": {
    "collapsed": false
   },
   "outputs": [],
   "source": [
    "from nltk.stem import SnowballStemmer\n",
    "\n",
    "# Take only aplanumeric words, no punctuation signs\n",
    "tokenizer = nltk.RegexpTokenizer('\\w+')\n",
    "\n",
    "# Prepare set of stopwords\n",
    "stopWords = set(stopwords.words('english'))\n",
    "\n",
    "# Define stemmer\n",
    "snowball_stemmer = SnowballStemmer(\"english\")\n",
    "\n",
    "wordsFiltered = []\n",
    "wordsArray = []\n",
    "\n",
    "for html_text in df_questions['body'] + \" \" + df_questions['title']:\n",
    "    soup = BeautifulSoup(html_text, \"lxml\").get_text()\n",
    "    words = tokenizer.tokenize(soup.lower())\n",
    "    his_words = ''\n",
    "    for w in words:\n",
    "        if w not in stopWords:\n",
    "            stem = snowball_stemmer.stem(w)\n",
    "            wordsFiltered.append(stem)\n",
    "            his_words = his_words + ' ' + stem\n",
    "    wordsArray.append(his_words)\n"
   ]
  },
  {
   "cell_type": "code",
   "execution_count": 6,
   "metadata": {
    "collapsed": false
   },
   "outputs": [],
   "source": [
    "# Add a column to the dataframe with le list of cleaned stems\n",
    "df_questions['words'] = wordsArray"
   ]
  },
  {
   "cell_type": "markdown",
   "metadata": {},
   "source": [
    "The variabe wordsFiltered is a list with all the stems as they appear. It has duplicate entries."
   ]
  },
  {
   "cell_type": "code",
   "execution_count": 7,
   "metadata": {
    "collapsed": false
   },
   "outputs": [
    {
     "name": "stdout",
     "output_type": "stream",
     "text": [
      "Total number of stems 975465\n",
      "Total number of unique stems 40992\n"
     ]
    }
   ],
   "source": [
    "print(\"Total number of stems {0}\".format(len(wordsFiltered)))\n",
    "\n",
    "words_freq = nltk.FreqDist(wordsFiltered)\n",
    "\n",
    "print(\"Total number of unique stems {0}\".format(len(words_freq)))"
   ]
  },
  {
   "cell_type": "markdown",
   "metadata": {},
   "source": [
    "### Vectorize stems"
   ]
  },
  {
   "cell_type": "markdown",
   "metadata": {},
   "source": [
    "The set of stems gets vectorized. Each question is a line of the matrix and each stem is a column. The values are the number of occurrences of each stem in each question.\n",
    "Any word that is used in more than 95% of the questions or less than 5 times across all questions is removed, because its either too common or too specific to be used for the topic determination."
   ]
  },
  {
   "cell_type": "code",
   "execution_count": 8,
   "metadata": {
    "collapsed": false
   },
   "outputs": [],
   "source": [
    "from sklearn.feature_extraction.text import CountVectorizer\n",
    "stem_vectorizer = CountVectorizer(lowercase = True, ngram_range=(1, 1), max_df=0.95, min_df=5)\n",
    "stem_matrix = stem_vectorizer.fit_transform(df_questions['words'])"
   ]
  },
  {
   "cell_type": "markdown",
   "metadata": {},
   "source": [
    "### Vectorize tags"
   ]
  },
  {
   "cell_type": "code",
   "execution_count": 9,
   "metadata": {
    "collapsed": false
   },
   "outputs": [
    {
     "name": "stdout",
     "output_type": "stream",
     "text": [
      "(15089, 5443)\n"
     ]
    }
   ],
   "source": [
    "tag_vectorizer = CountVectorizer(lowercase = True, max_df=1.0, min_df=0, token_pattern = '[^<>]+')\n",
    "tag_matrix = tag_vectorizer.fit_transform(df_questions['tags'])\n",
    "print(tag_matrix.shape)"
   ]
  },
  {
   "cell_type": "code",
   "execution_count": 10,
   "metadata": {
    "collapsed": false
   },
   "outputs": [],
   "source": [
    "# Create a datraframe with the list of tags and the number of times they are used\n",
    "tag_names = tag_vectorizer.get_feature_names()\n",
    "\n",
    "tag_df = pd.DataFrame(tag_matrix.sum(0)).T\n",
    "tag_df.rename(index=str, columns={0:'number'}, inplace=True)\n",
    "tag_df['names'] = tag_names"
   ]
  },
  {
   "cell_type": "code",
   "execution_count": 11,
   "metadata": {
    "collapsed": false
   },
   "outputs": [],
   "source": [
    "tf_feature_names = stem_vectorizer.get_feature_names()"
   ]
  },
  {
   "cell_type": "markdown",
   "metadata": {},
   "source": [
    "## Classify new questions"
   ]
  },
  {
   "cell_type": "markdown",
   "metadata": {},
   "source": [
    "The new questions get vectorized with the same set of stems than the training set. If new terms/stems are included, they are just ignored."
   ]
  },
  {
   "cell_type": "code",
   "execution_count": 12,
   "metadata": {
    "collapsed": false
   },
   "outputs": [],
   "source": [
    "newWordsFiltered = []\n",
    "newWordsArray = []\n",
    "\n",
    "for html_text in df_new_questions['body'] + \" \" + df_new_questions['title']:\n",
    "    soup = BeautifulSoup(html_text, \"lxml\").get_text()\n",
    "    words = tokenizer.tokenize(soup.lower())\n",
    "    his_words = ''\n",
    "    for w in words:\n",
    "        if (w not in stopWords):\n",
    "            stem = snowball_stemmer.stem(w)\n",
    "            wordsFiltered.append(stem)\n",
    "            his_words = his_words + ' ' + stem\n",
    "    newWordsArray.append(his_words)\n",
    "\n",
    "# Add a column to the dataframe with le list of cleaned stems\n",
    "df_new_questions['stems'] = newWordsArray\n",
    "stem_matrix_new = stem_vectorizer.transform(df_new_questions['stems'])"
   ]
  },
  {
   "cell_type": "code",
   "execution_count": 13,
   "metadata": {
    "collapsed": false
   },
   "outputs": [
    {
     "name": "stdout",
     "output_type": "stream",
     "text": [
      "(3865, 2616)\n"
     ]
    }
   ],
   "source": [
    "# Create matrix of tags for new questions\n",
    "tag_matrix_new = tag_vectorizer.fit_transform(df_new_questions['tags'])\n",
    "print(tag_matrix_new.shape)\n",
    "\n",
    "# Add tags to new questions\n",
    "tag_df_new_questions = pd.DataFrame(tag_matrix_new.sum(0)).T\n",
    "tag_df_new_questions.rename(index=str, columns={0:'number'}, inplace=True)\n",
    "tag_names_new = tag_vectorizer.get_feature_names()\n",
    "tag_df_new_questions['names'] = tag_names_new"
   ]
  },
  {
   "cell_type": "code",
   "execution_count": 14,
   "metadata": {
    "collapsed": false
   },
   "outputs": [
    {
     "name": "stdout",
     "output_type": "stream",
     "text": [
      "2 topics\n",
      "Unsupervised methodology overall score 0.26985769728331177. Mean score 0.28442863303148197\n",
      "3 topics\n",
      "Unsupervised methodology overall score 0.28641655886157824. Mean score 0.30025010780509115\n",
      "4 topics\n",
      "Unsupervised methodology overall score 0.296248382923674. Mean score 0.30914187149633704\n",
      "5 topics\n",
      "Unsupervised methodology overall score 0.3151358344113842. Mean score 0.31916343251401674\n",
      "6 topics\n",
      "Unsupervised methodology overall score 0.32522639068564035. Mean score 0.3291203104786567\n",
      "7 topics\n",
      "Unsupervised methodology overall score 0.32910737386804656. Mean score 0.334885726606298\n",
      "8 topics\n",
      "Unsupervised methodology overall score 0.3425614489003881. Mean score 0.3409357481673154\n",
      "9 topics\n",
      "Unsupervised methodology overall score 0.3407503234152652. Mean score 0.3415653298835725\n",
      "10 topics\n",
      "Unsupervised methodology overall score 0.3482535575679172. Mean score 0.3459982751185877\n",
      "11 topics\n",
      "Unsupervised methodology overall score 0.3477360931435964. Mean score 0.3463993100474362\n",
      "12 topics\n",
      "Unsupervised methodology overall score 0.34747736093143594. Mean score 0.34681328158689273\n",
      "13 topics\n",
      "Unsupervised methodology overall score 0.36041397153945665. Mean score 0.35288055196205437\n",
      "14 topics\n",
      "Unsupervised methodology overall score 0.3586028460543338. Mean score 0.35168175937904456\n",
      "15 topics\n",
      "Unsupervised methodology overall score 0.36041397153945665. Mean score 0.3527813712807263\n",
      "16 topics\n",
      "Unsupervised methodology overall score 0.3666235446313066. Mean score 0.35721431651574154\n",
      "17 topics\n",
      "Unsupervised methodology overall score 0.359379042690815. Mean score 0.35533850797757816\n",
      "18 topics\n",
      "Unsupervised methodology overall score 0.35963777490297544. Mean score 0.35216903837861335\n",
      "19 topics\n",
      "Unsupervised methodology overall score 0.36170763260025873. Mean score 0.35485985338508147\n",
      "20 topics\n",
      "Unsupervised methodology overall score 0.37335058214747735. Mean score 0.3641310909874967\n",
      "21 topics\n",
      "Unsupervised methodology overall score 0.38809831824062097. Mean score 0.3730185424752066\n",
      "22 topics\n",
      "Unsupervised methodology overall score 0.3658473479948254. Mean score 0.3588960758947839\n",
      "23 topics\n",
      "Unsupervised methodology overall score 0.3777490297542044. Mean score 0.3673781802501097\n",
      "24 topics\n",
      "Unsupervised methodology overall score 0.3808538163001294. Mean score 0.36794739111686264\n",
      "25 topics\n",
      "Unsupervised methodology overall score 0.3736093143596378. Mean score 0.3628331177231584\n",
      "26 topics\n",
      "Unsupervised methodology overall score 0.381888745148771. Mean score 0.36808106942647867\n",
      "27 topics\n",
      "Unsupervised methodology overall score 0.37542043984476064. Mean score 0.364523501509273\n",
      "28 topics\n",
      "Unsupervised methodology overall score 0.37981888745148773. Mean score 0.3671410090556293\n",
      "29 topics\n",
      "Unsupervised methodology overall score 0.38447606727037514. Mean score 0.3702501078050899\n",
      "30 topics\n",
      "Unsupervised methodology overall score 0.36998706338939197. Mean score 0.3615998275118603\n",
      "31 topics\n",
      "Unsupervised methodology overall score 0.3826649417852523. Mean score 0.37182406209573277\n",
      "32 topics\n",
      "Unsupervised methodology overall score 0.3943078913324709. Mean score 0.3773868046571815\n",
      "33 topics\n",
      "Unsupervised methodology overall score 0.3808538163001294. Mean score 0.36899525657611215\n",
      "34 topics\n",
      "Unsupervised methodology overall score 0.3839586028460543. Mean score 0.36873652436395216\n",
      "35 topics\n",
      "Unsupervised methodology overall score 0.38033635187580855. Mean score 0.3693833548943527\n",
      "36 topics\n",
      "Unsupervised methodology overall score 0.37697283311772317. Mean score 0.36464855541181695\n",
      "37 topics\n",
      "Unsupervised methodology overall score 0.38758085381630014. Mean score 0.3728374299266947\n",
      "38 topics\n",
      "Unsupervised methodology overall score 0.36946959896507114. Mean score 0.36097455799913947\n",
      "39 topics\n",
      "Unsupervised methodology overall score 0.3813712807244502. Mean score 0.3689176369124641\n",
      "40 topics\n",
      "Unsupervised methodology overall score 0.3780077619663648. Mean score 0.3682319965502393\n",
      "41 topics\n",
      "Unsupervised methodology overall score 0.3780077619663648. Mean score 0.36499784389823414\n",
      "42 topics\n",
      "Unsupervised methodology overall score 0.3782664941785252. Mean score 0.36719706770159727\n",
      "43 topics\n",
      "Unsupervised methodology overall score 0.39197930142302717. Mean score 0.37621388529538796\n",
      "44 topics\n",
      "Unsupervised methodology overall score 0.39223803363518756. Mean score 0.3790815006468323\n",
      "45 topics\n",
      "Unsupervised methodology overall score 0.39016817593790426. Mean score 0.37422595946528897\n",
      "46 topics\n",
      "Unsupervised methodology overall score 0.3909443725743855. Mean score 0.37513583441138626\n",
      "47 topics\n",
      "Unsupervised methodology overall score 0.3800776196636481. Mean score 0.3670935748167336\n",
      "48 topics\n",
      "Unsupervised methodology overall score 0.3865459249676585. Mean score 0.372371711944806\n",
      "49 topics\n",
      "Unsupervised methodology overall score 0.381888745148771. Mean score 0.3705821474773627\n",
      "50 topics\n",
      "Unsupervised methodology overall score 0.39016817593790426. Mean score 0.37711082363087717\n"
     ]
    }
   ],
   "source": [
    "from sklearn.decomposition import LatentDirichletAllocation\n",
    "score_topic = [None, None]\n",
    "mean_topic = [None, None]\n",
    "for no_topics in np.arange(2, 50+1, 1):\n",
    "\n",
    "    print(\"{0} topics\".format(no_topics))\n",
    "    # Run LDA\n",
    "    lda = LatentDirichletAllocation(n_topics=no_topics, max_iter=5, learning_method='online',\n",
    "                                    learning_offset=50.,random_state=0)\n",
    "\n",
    "    lda_corpus = lda.fit_transform(stem_matrix)\n",
    "    \n",
    "    # Calculate the weight of each tag for each topic\n",
    "    topic_tag_weight = np.matmul(lda_corpus.T, tag_matrix.todense())\n",
    "    \n",
    "    # Normalize the weight matrix to reduce the influence of the tags most used\n",
    "    topic_tag_weight_norm = topic_tag_weight / (topic_tag_weight.sum(axis = 1))\n",
    "\n",
    "    # Transform new questions according to trained LDA\n",
    "    lda_new_corpus = lda.transform(stem_matrix_new)\n",
    "\n",
    "    # Calculate matrix of tags probability per new question\n",
    "    new_questions_tags = lda_new_corpus.dot(topic_tag_weight_norm)\n",
    "    new_questions_df = pd.DataFrame(new_questions_tags)\n",
    "\n",
    "    # Add the list of prosed tags and the score per question to the dataframe\n",
    "    for question in np.arange(0, len(df_new_questions)):\n",
    "        tag_array = tag_df_new_questions.iloc[tag_matrix_new[question].indices]['names'].values\n",
    "        proposed_tags = ''\n",
    "        right_tags = 0\n",
    "        for i in new_questions_df.iloc[question].argsort()[:-10-1:-1]:\n",
    "            proposed_tag = tag_df.iloc[i]['names']\n",
    "            proposed_tags += (proposed_tag) + \" \"\n",
    "            if proposed_tag in tag_array:\n",
    "                right_tags += 1\n",
    "        df_new_questions.loc[question,'right'] = (right_tags/len(tag_array))\n",
    "        df_new_questions.loc[question,'proposed_tags'] = proposed_tags\n",
    "\n",
    "    # Calculate the number of questions for which at least 50% of the tags were proposed\n",
    "    unsupervised_score = df_new_questions[df_new_questions['right'] >= 0.5]['Id'].count() / len(df_new_questions)\n",
    "    unsupervised_mean = df_new_questions['right'].mean()\n",
    "    score_topic.append(unsupervised_score)\n",
    "    mean_topic.append(unsupervised_mean)\n",
    "    \n",
    "    print(\"Unsupervised methodology overall score {0}. Mean score {1}\".format(unsupervised_score, unsupervised_mean))"
   ]
  },
  {
   "cell_type": "code",
   "execution_count": 15,
   "metadata": {
    "collapsed": false
   },
   "outputs": [
    {
     "name": "stdout",
     "output_type": "stream",
     "text": [
      "Best score: 0.3943 with 32 topics.\n"
     ]
    }
   ],
   "source": [
    "print(\"Best score: {0:.4f} with {1} topics.\".format(np.max(score_topic[2:]), np.argmax(score_topic[2:])+2))"
   ]
  },
  {
   "cell_type": "code",
   "execution_count": 16,
   "metadata": {
    "collapsed": false
   },
   "outputs": [
    {
     "data": {
      "image/png": "[encoded data removed]",
      "text/plain": [
       "<matplotlib.figure.Figure at 0x152f6f98>"
      ]
     },
     "metadata": {},
     "output_type": "display_data"
    }
   ],
   "source": [
    "plt.plot(score_topic)\n",
    "plt.title(\">50% Score per topic number\")\n",
    "plt.xlabel(\"Number of topics\")\n",
    "plt.gca().set_yticklabels(['{:.0f}%'.format(x*100) for x in plt.gca().get_yticks()])\n",
    "plt.show()"
   ]
  },
  {
   "cell_type": "code",
   "execution_count": 17,
   "metadata": {
    "collapsed": false
   },
   "outputs": [
    {
     "data": {
      "image/png": "[encoded data removed]",
      "text/plain": [
       "<matplotlib.figure.Figure at 0x14da46a0>"
      ]
     },
     "metadata": {},
     "output_type": "display_data"
    }
   ],
   "source": [
    "plt.plot(mean_topic)\n",
    "plt.title(\"Mean score per topic number\")\n",
    "plt.xlabel(\"Number of topics\")\n",
    "plt.gca().set_yticklabels(['{:.0f}%'.format(x*100) for x in plt.gca().get_yticks()]) \n",
    "plt.show()"
   ]
  },
  {
   "cell_type": "code",
   "execution_count": null,
   "metadata": {
    "collapsed": true
   },
   "outputs": [],
   "source": []
  }
 ],
 "metadata": {
  "kernelspec": {
   "display_name": "Python 3",
   "language": "python",
   "name": "python3"
  },
  "language_info": {
   "codemirror_mode": {
    "name": "ipython",
    "version": 3
   },
   "file_extension": ".py",
   "mimetype": "text/x-python",
   "name": "python",
   "nbconvert_exporter": "python",
   "pygments_lexer": "ipython3",
   "version": "3.6.0"
  }
 },
 "nbformat": 4,
 "nbformat_minor": 2
}
