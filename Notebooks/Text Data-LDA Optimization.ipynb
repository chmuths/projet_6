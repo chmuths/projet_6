{
 "cells": [
  {
   "cell_type": "code",
   "execution_count": 1,
   "metadata": {
    "collapsed": false
   },
   "outputs": [],
   "source": [
    "# Required libraries\n",
    "import os\n",
    "import math\n",
    "import numpy as np\n",
    "import pandas as pd\n",
    "\n",
    "import nltk\n",
    "from nltk.corpus import stopwords\n",
    "from bs4 import BeautifulSoup"
   ]
  },
  {
   "cell_type": "code",
   "execution_count": 2,
   "metadata": {
    "collapsed": true
   },
   "outputs": [],
   "source": [
    "# Constants\n",
    "my_data = \"../data\""
   ]
  },
  {
   "cell_type": "markdown",
   "metadata": {},
   "source": [
    "## Import data"
   ]
  },
  {
   "cell_type": "markdown",
   "metadata": {},
   "source": [
    "Set of legacy questions to train/test the model. Query loads questions where last modification date was last year.\n",
    "\n",
    "Stackexchange query is https://data.stackexchange.com/stackoverflow/query/edit/847084\n",
    "\n",
    "select Id, Score, ViewCount, CreationDate, LastActivityDate, title, tags, body\n",
    "from Posts \n",
    "where (score > 100) and (LastActivityDate > '2017-04-01') \n",
    "and (LastActivityDate < '2018-04-01') and (PostTypeId = 1)"
   ]
  },
  {
   "cell_type": "code",
   "execution_count": 3,
   "metadata": {
    "collapsed": false
   },
   "outputs": [
    {
     "name": "stdout",
     "output_type": "stream",
     "text": [
      "(15089, 8)\n"
     ]
    }
   ],
   "source": [
    "# Load data into Pandas dataframe\n",
    "datafile = \"QueryResultsOld.csv\"\n",
    "full_path = os.path.join(my_data, datafile)\n",
    "df_questions = pd.read_csv(full_path)\n",
    "print(df_questions.shape)"
   ]
  },
  {
   "cell_type": "markdown",
   "metadata": {},
   "source": [
    "Other set of questions to use with the trained model\n",
    "\n",
    "https://data.stackexchange.com/stackoverflow/query/edit/846505\n",
    "\n",
    "select Id, Score, ViewCount, CreationDate, LastActivityDate, title, tags, body\n",
    "from Posts \n",
    "where (score > 100) and (LastActivityDate > '2018-04-01') and (PostTypeId = 1)"
   ]
  },
  {
   "cell_type": "code",
   "execution_count": 4,
   "metadata": {
    "collapsed": false
   },
   "outputs": [
    {
     "name": "stdout",
     "output_type": "stream",
     "text": [
      "(3865, 8)\n"
     ]
    }
   ],
   "source": [
    "# Load data into Pandas dataframe\n",
    "datafile = \"QueryResultsNew.csv\"\n",
    "full_path = os.path.join(my_data, datafile)\n",
    "df_new_questions = pd.read_csv(full_path)\n",
    "print(df_new_questions.shape)"
   ]
  },
  {
   "cell_type": "markdown",
   "metadata": {},
   "source": [
    "### Tokenize words"
   ]
  },
  {
   "cell_type": "markdown",
   "metadata": {},
   "source": [
    "This piece of code cleans up the HTML content, removes stop words and converts the remaining ones into a list of stems.\n",
    "The result is a new column in the table with that list for each question."
   ]
  },
  {
   "cell_type": "code",
   "execution_count": 5,
   "metadata": {
    "collapsed": false
   },
   "outputs": [],
   "source": [
    "from nltk.stem import SnowballStemmer\n",
    "\n",
    "# Take only aplanumeric words, no punctuation signs\n",
    "tokenizer = nltk.RegexpTokenizer('\\w+')\n",
    "\n",
    "# Prepare set of stopwords\n",
    "stopWords = set(stopwords.words('english'))\n",
    "\n",
    "# Define stemmer\n",
    "snowball_stemmer = SnowballStemmer(\"english\")\n",
    "\n",
    "wordsFiltered = []\n",
    "wordsArray = []\n",
    "\n",
    "for html_text in df_questions['body'] + \" \" + df_questions['title']:\n",
    "    soup = BeautifulSoup(html_text, \"lxml\").get_text()\n",
    "    words = tokenizer.tokenize(soup.lower())\n",
    "    his_words = ''\n",
    "    for w in words:\n",
    "        if w not in stopWords:\n",
    "            stem = snowball_stemmer.stem(w)\n",
    "            wordsFiltered.append(stem)\n",
    "            his_words = his_words + ' ' + stem\n",
    "    wordsArray.append(his_words)\n"
   ]
  },
  {
   "cell_type": "code",
   "execution_count": 6,
   "metadata": {
    "collapsed": false
   },
   "outputs": [],
   "source": [
    "# Add a column to the dataframe with le list of cleaned stems\n",
    "df_questions['words'] = wordsArray"
   ]
  },
  {
   "cell_type": "markdown",
   "metadata": {},
   "source": [
    "The variabe wordsFiltered is a list with all the stems as they appear. It has duplicate entries."
   ]
  },
  {
   "cell_type": "code",
   "execution_count": 7,
   "metadata": {
    "collapsed": false
   },
   "outputs": [
    {
     "name": "stdout",
     "output_type": "stream",
     "text": [
      "Total number of stems 975465\n",
      "Total number of unique stems 40992\n"
     ]
    }
   ],
   "source": [
    "print(\"Total number of stems {0}\".format(len(wordsFiltered)))\n",
    "\n",
    "words_freq = nltk.FreqDist(wordsFiltered)\n",
    "\n",
    "print(\"Total number of unique stems {0}\".format(len(words_freq)))"
   ]
  },
  {
   "cell_type": "markdown",
   "metadata": {},
   "source": [
    "### Vectorize stems"
   ]
  },
  {
   "cell_type": "markdown",
   "metadata": {},
   "source": [
    "The set of stems gets vectorized. Each question is a line of the matrix and each stem is a column. The values are the number of occurrences of each stem in each question.\n",
    "Any word that is used in more than 95% of the questions or less than 5 times across all questions is removed, because its either too common or too specific to be used for the topic determination."
   ]
  },
  {
   "cell_type": "code",
   "execution_count": 8,
   "metadata": {
    "collapsed": false
   },
   "outputs": [],
   "source": [
    "from sklearn.feature_extraction.text import CountVectorizer\n",
    "stem_vectorizer = CountVectorizer(lowercase = True, ngram_range=(1, 2), max_df=0.95, min_df=5)\n",
    "stem_matrix = stem_vectorizer.fit_transform(df_questions['words'])"
   ]
  },
  {
   "cell_type": "markdown",
   "metadata": {},
   "source": [
    "### Vectorize tags"
   ]
  },
  {
   "cell_type": "code",
   "execution_count": 9,
   "metadata": {
    "collapsed": false
   },
   "outputs": [
    {
     "name": "stdout",
     "output_type": "stream",
     "text": [
      "(15089, 5443)\n"
     ]
    }
   ],
   "source": [
    "tag_vectorizer = CountVectorizer(lowercase = True, max_df=1.0, min_df=0, token_pattern = '[^<>]+')\n",
    "tag_matrix = tag_vectorizer.fit_transform(df_questions['tags'])\n",
    "print(tag_matrix.shape)"
   ]
  },
  {
   "cell_type": "code",
   "execution_count": 10,
   "metadata": {
    "collapsed": false
   },
   "outputs": [],
   "source": [
    "# Create a datraframe with the list of tags and the number of times they are used\n",
    "tag_names = tag_vectorizer.get_feature_names()\n",
    "\n",
    "tag_df = pd.DataFrame(tag_matrix.sum(0)).T\n",
    "tag_df.rename(index=str, columns={0:'number'}, inplace=True)\n",
    "tag_df['names'] = tag_names"
   ]
  },
  {
   "cell_type": "code",
   "execution_count": 11,
   "metadata": {
    "collapsed": false
   },
   "outputs": [],
   "source": [
    "tf_feature_names = stem_vectorizer.get_feature_names()"
   ]
  },
  {
   "cell_type": "markdown",
   "metadata": {},
   "source": [
    "## Classify new questions"
   ]
  },
  {
   "cell_type": "markdown",
   "metadata": {},
   "source": [
    "The new questions get vectorized with the same set of stems than the training set. If new terms/stems are included, they are just ignored."
   ]
  },
  {
   "cell_type": "code",
   "execution_count": 12,
   "metadata": {
    "collapsed": false
   },
   "outputs": [],
   "source": [
    "newWordsFiltered = []\n",
    "newWordsArray = []\n",
    "\n",
    "for html_text in df_new_questions['body'] + \" \" + df_new_questions['title']:\n",
    "    soup = BeautifulSoup(html_text, \"lxml\").get_text()\n",
    "    words = tokenizer.tokenize(soup.lower())\n",
    "    his_words = ''\n",
    "    for w in words:\n",
    "        if (w not in stopWords):\n",
    "            stem = snowball_stemmer.stem(w)\n",
    "            wordsFiltered.append(stem)\n",
    "            his_words = his_words + ' ' + stem\n",
    "    newWordsArray.append(his_words)\n",
    "\n",
    "# Add a column to the dataframe with le list of cleaned stems\n",
    "df_new_questions['stems'] = newWordsArray\n",
    "stem_matrix_new = stem_vectorizer.transform(df_new_questions['stems'])"
   ]
  },
  {
   "cell_type": "code",
   "execution_count": 13,
   "metadata": {
    "collapsed": false
   },
   "outputs": [
    {
     "name": "stdout",
     "output_type": "stream",
     "text": [
      "(3865, 2616)\n"
     ]
    }
   ],
   "source": [
    "# Create matrix of tags for new questions\n",
    "tag_matrix_new = tag_vectorizer.fit_transform(df_new_questions['tags'])\n",
    "print(tag_matrix_new.shape)\n",
    "\n",
    "# Add tags to new questions\n",
    "tag_df_new_questions = pd.DataFrame(tag_matrix_new.sum(0)).T\n",
    "tag_df_new_questions.rename(index=str, columns={0:'number'}, inplace=True)\n",
    "tag_names_new = tag_vectorizer.get_feature_names()\n",
    "tag_df_new_questions['names'] = tag_names_new"
   ]
  },
  {
   "cell_type": "code",
   "execution_count": 18,
   "metadata": {
    "collapsed": false
   },
   "outputs": [
    {
     "name": "stdout",
     "output_type": "stream",
     "text": [
      "2 topics\n",
      "Unsupervised methodology overall score 0.17283311772315654. Mean score 0.19989219491160187\n",
      "3 topics\n",
      "Unsupervised methodology overall score 0.22354463130659766. Mean score 0.2392410521776657\n",
      "4 topics\n",
      "Unsupervised methodology overall score 0.2111254851228978. Mean score 0.23797326433807997\n",
      "5 topics\n",
      "Unsupervised methodology overall score 0.20879689521345407. Mean score 0.233113410953\n",
      "6 topics\n",
      "Unsupervised methodology overall score 0.21164294954721863. Mean score 0.23808969383355214\n",
      "7 topics\n",
      "Unsupervised methodology overall score 0.21707632600258733. Mean score 0.24134109529970127\n",
      "8 topics\n",
      "Unsupervised methodology overall score 0.2095730918499353. Mean score 0.2359637774903007\n",
      "9 topics\n",
      "Unsupervised methodology overall score 0.22483829236739974. Mean score 0.24171194480379768\n",
      "10 topics\n",
      "Unsupervised methodology overall score 0.21966364812419145. Mean score 0.24147046140578143\n",
      "11 topics\n",
      "Unsupervised methodology overall score 0.22923673997412677. Mean score 0.2481155670547681\n",
      "12 topics\n",
      "Unsupervised methodology overall score 0.22147477360931436. Mean score 0.2421517895644704\n",
      "13 topics\n",
      "Unsupervised methodology overall score 0.23234152652005174. Mean score 0.24918068132816173\n",
      "14 topics\n",
      "Unsupervised methodology overall score 0.21681759379042692. Mean score 0.23925830099180984\n",
      "15 topics\n",
      "Unsupervised methodology overall score 0.21759379042690816. Mean score 0.23822768434670413\n",
      "16 topics\n",
      "Unsupervised methodology overall score 0.2333764553686934. Mean score 0.249340232858994\n",
      "17 topics\n",
      "Unsupervised methodology overall score 0.22043984476067272. Mean score 0.24535575679172386\n",
      "18 topics\n",
      "Unsupervised methodology overall score 0.22871927554980595. Mean score 0.24672703751617392\n",
      "19 topics\n",
      "Unsupervised methodology overall score 0.24294954721862871. Mean score 0.2590771884432979\n",
      "20 topics\n",
      "Unsupervised methodology overall score 0.23699870633893919. Mean score 0.2527554980595117\n",
      "21 topics\n",
      "Unsupervised methodology overall score 0.2258732212160414. Mean score 0.2440577835273854\n",
      "22 topics\n",
      "Unsupervised methodology overall score 0.23053040103492886. Mean score 0.24985769728331503\n",
      "23 topics\n",
      "Unsupervised methodology overall score 0.2336351875808538. Mean score 0.2502932298404517\n",
      "24 topics\n",
      "Unsupervised methodology overall score 0.21423027166882277. Mean score 0.24414402759810605\n",
      "25 topics\n",
      "Unsupervised methodology overall score 0.24113842173350583. Mean score 0.25676153514446215\n",
      "26 topics\n",
      "Unsupervised methodology overall score 0.23027166882276842. Mean score 0.2501811125485155\n",
      "27 topics\n",
      "Unsupervised methodology overall score 0.2336351875808538. Mean score 0.24993100474342705\n",
      "28 topics\n",
      "Unsupervised methodology overall score 0.222509702457956. Mean score 0.2419922380336381\n",
      "29 topics\n",
      "Unsupervised methodology overall score 0.2238033635187581. Mean score 0.24740405347132713\n",
      "30 topics\n",
      "Unsupervised methodology overall score 0.23389391979301424. Mean score 0.2502587322121635\n",
      "31 topics\n",
      "Unsupervised methodology overall score 0.2351875808538163. Mean score 0.24954290642518626\n",
      "32 topics\n",
      "Unsupervised methodology overall score 0.2072445019404916. Mean score 0.2320698576972863\n",
      "33 topics\n",
      "Unsupervised methodology overall score 0.23673997412677877. Mean score 0.24964639931005045\n",
      "34 topics\n",
      "Unsupervised methodology overall score 0.24036222509702457. Mean score 0.25460112117292255\n",
      "35 topics\n",
      "Unsupervised methodology overall score 0.22354463130659766. Mean score 0.2447477360931467\n",
      "36 topics\n",
      "Unsupervised methodology overall score 0.2445019404915912. Mean score 0.2608279430789169\n",
      "37 topics\n",
      "Unsupervised methodology overall score 0.21966364812419145. Mean score 0.2393316084519218\n",
      "38 topics\n",
      "Unsupervised methodology overall score 0.2069857697283312. Mean score 0.2305605864596838\n",
      "39 topics\n",
      "Unsupervised methodology overall score 0.24217335058214748. Mean score 0.2533850797757684\n",
      "40 topics\n",
      "Unsupervised methodology overall score 0.23467011642949548. Mean score 0.253553255713673\n",
      "41 topics\n",
      "Unsupervised methodology overall score 0.23389391979301424. Mean score 0.2490513152220815\n",
      "42 topics\n",
      "Unsupervised methodology overall score 0.22846054333764554. Mean score 0.25347563605002493\n",
      "43 topics\n",
      "Unsupervised methodology overall score 0.2333764553686934. Mean score 0.2534540750323448\n",
      "44 topics\n",
      "Unsupervised methodology overall score 0.21992238033635186. Mean score 0.24158689090125357\n",
      "45 topics\n",
      "Unsupervised methodology overall score 0.2186287192755498. Mean score 0.2391979301423056\n",
      "46 topics\n",
      "Unsupervised methodology overall score 0.21371280724450195. Mean score 0.2392367399741296\n",
      "47 topics\n",
      "Unsupervised methodology overall score 0.2297542043984476. Mean score 0.2497326433807707\n",
      "48 topics\n",
      "Unsupervised methodology overall score 0.22173350582147477. Mean score 0.24581716257007652\n",
      "49 topics\n",
      "Unsupervised methodology overall score 0.24165588615782665. Mean score 0.2548296679603307\n",
      "50 topics\n",
      "Unsupervised methodology overall score 0.23053040103492886. Mean score 0.2477102199223833\n"
     ]
    }
   ],
   "source": [
    "from sklearn.decomposition import LatentDirichletAllocation\n",
    "score_topic = [None, None]\n",
    "mean_topic = [None, None]\n",
    "for no_topics in np.arange(2, 50+1, 1):\n",
    "\n",
    "    print(\"{0} topics\".format(no_topics))\n",
    "    # Run LDA\n",
    "    lda = LatentDirichletAllocation(n_topics=no_topics, max_iter=5, learning_method='online',\n",
    "                                    learning_offset=50.,random_state=0)\n",
    "\n",
    "    lda_corpus = lda.fit_transform(stem_matrix)\n",
    "    \n",
    "    # Calculate the weight of each tag for each topic\n",
    "    topic_tag_weight = np.matmul(lda_corpus.T, tag_matrix.todense())\n",
    "    \n",
    "    # Normalize the weight matrix to reduce the influence of the tags most used\n",
    "    # topic_tag_weight_norm = topic_tag_weight / (topic_tag_weight.sum(axis = 1))\n",
    "    topic_tag_weight_norm = topic_tag_weight\n",
    "\n",
    "    # Transform new questions according to trained LDA\n",
    "    lda_new_corpus = lda.transform(stem_matrix_new)\n",
    "\n",
    "    # Calculate matrix of tags probability per new question\n",
    "    new_questions_tags = lda_new_corpus.dot(topic_tag_weight_norm)\n",
    "    new_questions_df = pd.DataFrame(new_questions_tags)\n",
    "\n",
    "    # Add the list of prosed tags and the score per question to the dataframe\n",
    "    for question in np.arange(0, len(df_new_questions)):\n",
    "        tag_array = tag_df_new_questions.iloc[tag_matrix_new[question].indices]['names'].values\n",
    "        proposed_tags = ''\n",
    "        right_tags = 0\n",
    "        for i in new_questions_df.iloc[question].argsort()[:-5-1:-1]:\n",
    "            proposed_tag = tag_df.iloc[i]['names']\n",
    "            proposed_tags += (proposed_tag) + \" \"\n",
    "            if proposed_tag in tag_array:\n",
    "                right_tags += 1\n",
    "        df_new_questions.loc[question,'right'] = (right_tags/len(tag_array))\n",
    "        df_new_questions.loc[question,'proposed_tags'] = proposed_tags\n",
    "\n",
    "    # Calculate the number of questions for which at least 50% of the tags were proposed\n",
    "    unsupervised_score = df_new_questions[df_new_questions['right'] >= 0.5]['Id'].count() / len(df_new_questions)\n",
    "    unsupervised_mean = df_new_questions['right'].mean()\n",
    "    score_topic.append(unsupervised_score)\n",
    "    mean_topic.append(unsupervised_mean)\n",
    "    \n",
    "    print(\"Unsupervised methodology overall score {0}. Mean score {1}\".format(unsupervised_score, unsupervised_mean))"
   ]
  },
  {
   "cell_type": "code",
   "execution_count": 19,
   "metadata": {
    "collapsed": false
   },
   "outputs": [
    {
     "name": "stdout",
     "output_type": "stream",
     "text": [
      "Best score: 0.2445 with 36 topics.\n"
     ]
    }
   ],
   "source": [
    "print(\"Best score: {0:.4f} with {1} topics.\".format(np.max(score_topic[2:]), np.argmax(score_topic[2:])+2))"
   ]
  },
  {
   "cell_type": "code",
   "execution_count": 20,
   "metadata": {
    "collapsed": false
   },
   "outputs": [
    {
     "data": {
      "image/png": "[encoded data removed]",
      "text/plain": [
       "<matplotlib.figure.Figure at 0x148573c8>"
      ]
     },
     "metadata": {},
     "output_type": "display_data"
    }
   ],
   "source": [
    "import matplotlib.pyplot as plt\n",
    "plt.plot(score_topic)\n",
    "plt.title(\">50% Score per topic number\")\n",
    "plt.xlabel(\"Number of topics\")\n",
    "plt.gca().set_yticklabels(['{:.0f}%'.format(x*100) for x in plt.gca().get_yticks()])\n",
    "plt.show()"
   ]
  },
  {
   "cell_type": "code",
   "execution_count": 21,
   "metadata": {
    "collapsed": false
   },
   "outputs": [
    {
     "data": {
      "image/png": "[encoded data removed]",
      "text/plain": [
       "<matplotlib.figure.Figure at 0x16df4c50>"
      ]
     },
     "metadata": {},
     "output_type": "display_data"
    }
   ],
   "source": [
    "plt.plot(mean_topic)\n",
    "plt.title(\"Mean score per topic number\")\n",
    "plt.xlabel(\"Number of topics\")\n",
    "plt.gca().set_yticklabels(['{:.0f}%'.format(x*100) for x in plt.gca().get_yticks()]) \n",
    "plt.show()"
   ]
  },
  {
   "cell_type": "code",
   "execution_count": null,
   "metadata": {
    "collapsed": true
   },
   "outputs": [],
   "source": []
  }
 ],
 "metadata": {
  "kernelspec": {
   "display_name": "Python 3",
   "language": "python",
   "name": "python3"
  },
  "language_info": {
   "codemirror_mode": {
    "name": "ipython",
    "version": 3
   },
   "file_extension": ".py",
   "mimetype": "text/x-python",
   "name": "python",
   "nbconvert_exporter": "python",
   "pygments_lexer": "ipython3",
   "version": "3.6.0"
  }
 },
 "nbformat": 4,
 "nbformat_minor": 2
}
